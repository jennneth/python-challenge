{
 "cells": [
  {
   "cell_type": "code",
   "execution_count": 52,
   "metadata": {},
   "outputs": [
    {
     "name": "stdout",
     "output_type": "stream",
     "text": [
      "Last Row: 138230\n"
     ]
    }
   ],
   "source": [
    "import os\n",
    "import csv\n",
    "# load the data file budget_data\n",
    "\n",
    "## Create lists to store the data\n",
    "PLDelta = [];\n",
    "delta = 0;\n",
    "Date = [];\n",
    "PL = [];\n",
    "MyList = [];\n",
    "last_row_PL = 0;\n",
    "new_row_PL = 0;\n",
    "count_of_deltas = 0;\n",
    "total_months = 0;\n",
    "firstrow = True;\n",
    "\n",
    "## read csv file\n",
    "finance_csv = os.path.join('.', 'Resources', 'budget_data.csv')\n",
    "\n",
    "##open csv file\n",
    "with open(finance_csv, encoding=\"utf-8\") as csvfile:\n",
    "    csvreader = csv.reader(csvfile, delimiter=\",\")\n",
    "    #since there is a header row, skip reading the first row into the lists\n",
    "    csv_header = next(csvreader)\n",
    "    #initialize the net total of Profit and Losses variable\n",
    "    netTotal = 0\n",
    "    # Loop through reading the file and building lists to hold the data\n",
    "    for row in csvreader:\n",
    "        #increment the total number of months\n",
    "        total_months += 1\n",
    "        #sum net total of PL \n",
    "        \n",
    "        #calculate the changes in PL\n",
    "        #skip the first row calculation but store the last_row_PL\n",
    "        if firstrow:\n",
    "            last_row_PL = int(row[1])\n",
    "            firstrow = False\n",
    "        else:\n",
    "            last_row_PL = new_row_PL\n",
    "        new_row_PL=int(row[1])\n",
    "        delta = new_row_PL - last_row_PL\n",
    "        total_delta += delta\n",
    "        count_of_deltas +=1\n",
    "print(\"Last Row: \" + str(last_row_PL))\n",
    "           "
   ]
  },
  {
   "cell_type": "code",
   "execution_count": 13,
   "metadata": {},
   "outputs": [
    {
     "data": {
      "text/plain": [
       "86"
      ]
     },
     "execution_count": 13,
     "metadata": {},
     "output_type": "execute_result"
    }
   ],
   "source": [
    "total_months = len(Date)\n",
    " \n",
    "total_months\n",
    "    "
   ]
  },
  {
   "cell_type": "code",
   "execution_count": 16,
   "metadata": {},
   "outputs": [
    {
     "ename": "SyntaxError",
     "evalue": "invalid syntax (<ipython-input-16-82955aaf37e5>, line 1)",
     "output_type": "error",
     "traceback": [
      "\u001b[1;36m  File \u001b[1;32m\"<ipython-input-16-82955aaf37e5>\"\u001b[1;36m, line \u001b[1;32m1\u001b[0m\n\u001b[1;33m    For i in PLDelta:\u001b[0m\n\u001b[1;37m        ^\u001b[0m\n\u001b[1;31mSyntaxError\u001b[0m\u001b[1;31m:\u001b[0m invalid syntax\n"
     ]
    }
   ],
   "source": [
    "For i in PLDelta:\n",
    "    sum = sum + i\n",
    "    \n",
    "sum"
   ]
  },
  {
   "cell_type": "code",
   "execution_count": 63,
   "metadata": {},
   "outputs": [
    {
     "name": "stdout",
     "output_type": "stream",
     "text": [
      "Net Total P&L: $ + 123456789\n",
      "Net Total P&L: $ + 123456789\n"
     ]
    }
   ],
   "source": [
    "netTotal=123456789\n",
    "#netTotal=str(netTotal),\",\"\n",
    "print(f\"Net Total P&L: $ + {netTotal}\")\n",
    "print(f\"Net Total P&L: $ + {netTotal}\")"
   ]
  },
  {
   "cell_type": "code",
   "execution_count": 64,
   "metadata": {},
   "outputs": [
    {
     "name": "stdout",
     "output_type": "stream",
     "text": [
      "Object `test_file.write` not found.\n"
     ]
    }
   ],
   "source": [
    "test_file.write?"
   ]
  }
 ],
 "metadata": {
  "kernelspec": {
   "display_name": "Python 3",
   "language": "python",
   "name": "python3"
  },
  "language_info": {
   "codemirror_mode": {
    "name": "ipython",
    "version": 3
   },
   "file_extension": ".py",
   "mimetype": "text/x-python",
   "name": "python",
   "nbconvert_exporter": "python",
   "pygments_lexer": "ipython3",
   "version": "3.8.3"
  }
 },
 "nbformat": 4,
 "nbformat_minor": 4
}
